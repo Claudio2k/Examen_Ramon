{
 "cells": [
  {
   "cell_type": "code",
   "execution_count": null,
   "metadata": {},
   "outputs": [],
   "source": [
    "# Usuario ingresa las horas de estcionamiento\n",
    "horas = int(input(\"Horas: \"))\n",
    "\n",
    "#condicion dependiendo de las horas de estcionamiento\n",
    "if horas <= 4:\n",
    "    costo = 6.0  #Costo de las primers 4 horas \n",
    "else:\n",
    "    costo = 6.0 + (horas - 4) * 2.0  #Se adciciona el costo por hora a 2 soles\n",
    "\n",
    "#Muestra el costo  pagar resultante\n",
    "print(\"Importe a pagar: S/.\", costo)"
   ]
  }
 ],
 "metadata": {
  "language_info": {
   "name": "python"
  },
  "orig_nbformat": 4
 },
 "nbformat": 4,
 "nbformat_minor": 2
}
