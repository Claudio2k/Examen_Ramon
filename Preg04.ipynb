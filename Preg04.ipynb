{
 "cells": [
  {
   "cell_type": "code",
   "execution_count": null,
   "metadata": {},
   "outputs": [],
   "source": [
    "# Solicito al usuario la gananci\n",
    "ganancias = float(input(\"Ganancia: \"))\n",
    "\n",
    "# Calculo el donativo\n",
    "if ganancias <= 1000:\n",
    "    donativo = ganancias * 0.05  # 5%\n",
    "elif ganancias <= 1500:\n",
    "    donativo = ganancias * 0.07  # 7%\n",
    "elif ganancias <= 2000:\n",
    "    donativo = ganancias * 0.08  # 8%\n",
    "elif ganancias <= 5000:\n",
    "    donativo = ganancias * 0.10  # 10%\n",
    "else:\n",
    "    donativo = ganancias * 0.15  # 15%\n",
    "\n",
    "# Mostro el dontivo\n",
    "print(\"Donación:\", donativo)"
   ]
  }
 ],
 "metadata": {
  "language_info": {
   "name": "python"
  },
  "orig_nbformat": 4
 },
 "nbformat": 4,
 "nbformat_minor": 2
}
